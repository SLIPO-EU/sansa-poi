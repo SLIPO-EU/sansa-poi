{
 "cells": [
  {
   "cell_type": "markdown",
   "metadata": {},
   "source": [
    "## Clustering Evaluation"
   ]
  },
  {
   "cell_type": "markdown",
   "metadata": {},
   "source": [
    "### All imports here"
   ]
  },
  {
   "cell_type": "code",
   "execution_count": 1,
   "metadata": {},
   "outputs": [],
   "source": [
    "import json\n",
    "import numpy as np\n",
    "from collections import Counter\n",
    "from sklearn import metrics\n",
    "from scipy.special import comb\n",
    "from scipy.spatial import distance"
   ]
  },
  {
   "cell_type": "code",
   "execution_count": 2,
   "metadata": {},
   "outputs": [],
   "source": [
    "import matplotlib.pyplot as plt\n",
    "%matplotlib inline"
   ]
  },
  {
   "cell_type": "markdown",
   "metadata": {},
   "source": [
    "### Functions"
   ]
  },
  {
   "cell_type": "code",
   "execution_count": 12,
   "metadata": {},
   "outputs": [],
   "source": [
    "def parse_distance_matrix(pic_matrix_json):\n",
    "    \"\"\"\n",
    "    parse distance matrix output from pic clustering algorithm\n",
    "    @arg pic_matrix_json json file containing pic clustering distance\n",
    "    @return distance dictionary and set of pois\n",
    "    \"\"\"\n",
    "    distance_dict, pois = {}, set()\n",
    "    for item in pic_matrix_json:\n",
    "        pois.add(item['poi1'])\n",
    "        pois.add(item['poi2'])\n",
    "        if item['poi1'] not in distance_dict.keys():\n",
    "            distance_dict[item['poi1']] = {item['poi2']: item['distance']}\n",
    "        else:\n",
    "            distance_dict[item['poi1']][item['poi2']] = item['distance']\n",
    "    return distance_dict, pois\n",
    "\n",
    "def build_distance_matrix(distance_dict, pois):\n",
    "    \"\"\"\n",
    "    build distance matrix from distance dictionary and set of pois, key error should never be thrown here\n",
    "    @distance_dict contains pairs distance between poi_i and poi_j without duplications, considering (poi_i, poi_j) and (poi_j, poi_i) duplicated\n",
    "    @pois a list of pois\n",
    "    @return distance matrix with row sequentially equal to elements in pois\n",
    "    \"\"\"\n",
    "    matrix = []\n",
    "    for poi_i in pois:  # each row\n",
    "        row = []\n",
    "        for poi_j in pois:  # each column\n",
    "            if poi_i == poi_j:  # if poi_i and poi_j is the same\n",
    "                row.append(0.0)\n",
    "            elif poi_i in distance_dict.keys():  # if there is relation between poi_i and poi_j\n",
    "                if poi_j in distance_dict[poi_i].keys():\n",
    "                    row.append(distance_dict[poi_i][poi_j])\n",
    "                else:\n",
    "                    row.append(distance_dict[poi_j][poi_i])\n",
    "            else:  # if there is no relation between poi_i and poi_j\n",
    "                row.append(1.0)\n",
    "        matrix.append(np.array(row))\n",
    "    return np.array(matrix)\n",
    "\n",
    "def parse_clustering_result(clusters_json):\n",
    "    \"\"\"\n",
    "    parse clustering result to get cluster id and corresponding pois in cluster\n",
    "    \"\"\"\n",
    "    clusters = {}\n",
    "    for cluster in clusters_json['clusters']:\n",
    "        if cluster['cluster_id'] not in clusters:\n",
    "            clusters[cluster['cluster_id']] = []\n",
    "        for poi in cluster['poi_in_cluster']:\n",
    "            clusters[cluster['cluster_id']].append((poi['poi_id'], poi['categories']['categories']))\n",
    "    return clusters\n",
    "\n",
    "def build_label(clusters, pois):\n",
    "    \"\"\"\n",
    "    get cluster label for each poi from clusters and pois\n",
    "    \"\"\"\n",
    "    poi_cluster_label = {}\n",
    "    for key, value in clusters.items():  # for each cluster_i and pois_in_cluster_i\n",
    "        for poi in value:  # for each poi(id, categories) in cluster_i\n",
    "            assert poi[0] not in poi_cluster_label.keys()  # poi shouldn't be labeled, poi assigned to one cluster only\n",
    "            poi_cluster_label[poi[0]] = key\n",
    "    \n",
    "    labels = []\n",
    "    for poi in pois:  # get cluster label for each poi from poi_cluster dict\n",
    "        labels.append(poi_cluster_label[poi])\n",
    "    return np.array(labels)\n",
    "\n",
    "def build_mds_distance_matrix(poi_coordinates, pois):\n",
    "    \"\"\"\n",
    "    build distance matrix from mds coordinates, so far 2-dimensional space\n",
    "    \"\"\"\n",
    "    mds_matrix = []\n",
    "    for poi_i in pois:\n",
    "        row = []\n",
    "        for poi_j in pois:\n",
    "            if poi_i == poi_j:\n",
    "                row.append(0)\n",
    "            else:\n",
    "                row.append(distance.euclidean(poi_coordinates[poi_i], poi_coordinates[poi_j]))\n",
    "        mds_matrix.append(row)\n",
    "    return np.array(mds_matrix)\n",
    "\n",
    "def cal_purity(num_pois, categories_in_clusters):\n",
    "    \"\"\"\n",
    "    calculate purity of clustering result\n",
    "    \"\"\"\n",
    "    num_common = 0\n",
    "    for i, clu in enumerate(categories_in_clusters):\n",
    "        cluster = categories_in_clusters[i]\n",
    "        num_common += cluster[max(cluster, key=cluster.get)]   # add the number of most common category in each cluster\n",
    "    return num_common / num_pois\n",
    "\n",
    "def cal_nmi(num_pois, clusters, categories, categories_in_clusters):\n",
    "    print('Number of clusters: ', len(clusters))\n",
    "    mutual_info = 0\n",
    "    for i, cluster in enumerate(clusters):\n",
    "        w_i_card = len(clusters[i])\n",
    "        for category, c_j_card in categories.items():\n",
    "            if category in categories_in_clusters[i].keys():\n",
    "                intersect_w_c = categories_in_clusters[i][category]\n",
    "                mutual_info += intersect_w_c / num_pois * np.log( (num_pois * intersect_w_c) / (w_i_card * c_j_card) )\n",
    "    \n",
    "    h_omega = 0.0\n",
    "    for i, cluster in enumerate(clusters):\n",
    "        temp_v = len(clusters[i]) / num_pois\n",
    "        h_omega += temp_v * np.log(temp_v)\n",
    "    h_omega = 0.0 - h_omega\n",
    "    print('Entropy of cluster: ', h_omega)\n",
    "    \n",
    "    h_c = 0.0\n",
    "    for category, c_j_card in categories.items():\n",
    "        temp_v = c_j_card / num_pois\n",
    "        h_c += temp_v * np.log(temp_v)\n",
    "    h_c = 0.0 - h_c\n",
    "    print('Entropy of classes: ', h_c)\n",
    "    \n",
    "    nmi = mutual_info / ((h_omega + h_c) / 2)\n",
    "    return nmi\n",
    "\n",
    "def cal_ri(num_poi, clusters, categories, categories_in_clusters):\n",
    "\n",
    "    tp_fp = 0  # all pair of pois that are clustered into each cluster\n",
    "    for i, cluster in enumerate(clusters):\n",
    "        tp_fp += comb(len(clusters[i]), 2, exact=True)\n",
    "    print('tp_fp: ', tp_fp)\n",
    "    \n",
    "    tp = 0  # pair of same category poi that are assigned into same cluster\n",
    "    for i, cluster in enumerate(clusters):\n",
    "        for category, category_num in categories_in_clusters[i].items(): # iterate list\n",
    "            if category_num > 1:\n",
    "                tp += comb(category_num, 2, exact=True)\n",
    "    print('tp: ', tp)\n",
    "    \n",
    "    fp = tp_fp - tp\n",
    "    print('fp: ', fp)\n",
    "    \n",
    "    fn_tn = 0\n",
    "    fn = 0\n",
    "    for i, category_in_cluster in enumerate(categories_in_clusters):\n",
    "        cluster = categories_in_clusters[i]\n",
    "        most_common_category =  max(cluster, key=cluster.get)\n",
    "        print('most common category: ', most_common_category)\n",
    "        for category, category_num in cluster.items():\n",
    "            for j, category_in_cluster2 in enumerate(categories_in_clusters):\n",
    "                if j > i:\n",
    "                    if category in categories_in_clusters[j].keys():\n",
    "                        if category != most_common_category:  # calculate all pois except the one clustered correctly\n",
    "                            fn_tn += category_num * categories_in_clusters[j][category]     \n",
    "                        else:  # pair of pois should be clustered into same cluster, but actually not\n",
    "                            fn += category_num * categories_in_clusters[j][category]  \n",
    "    print('fn_tn: ', fn_tn)\n",
    "    print('fn: ', fn)\n",
    "    tn = fn_tn - fn\n",
    "    print('tn: ', tn)\n",
    "    \n",
    "    ri = (tp + tn) / (tp + tn + fp + fn)\n",
    "    print('ri: ', ri)\n",
    "    return ri\n",
    "\n",
    "\n",
    "def cal_categories(clusters):\n",
    "    categories = {}\n",
    "    categories_in_clusters = []\n",
    "    for i, cluster in enumerate(clusters):\n",
    "        categories_in_cluster = {}\n",
    "        for j, poi in enumerate(clusters[i]):\n",
    "            category = ' '.join(sorted(poi[1]))\n",
    "            if category not in categories.keys():\n",
    "                categories[category] = 1\n",
    "            else:\n",
    "                categories[category] += 1\n",
    "            if category not in categories_in_cluster.keys():\n",
    "                categories_in_cluster[category] = 1\n",
    "            else:\n",
    "                categories_in_cluster[category] += 1\n",
    "        categories_in_clusters.append(categories_in_cluster)\n",
    "        print('Number of categories: ', len(categories_in_cluster), ' in cluster ', i)\n",
    "    print('Number of categories: ', len(categories))\n",
    "    return categories, categories_in_clusters"
   ]
  },
  {
   "cell_type": "markdown",
   "metadata": {},
   "source": [
    "### PIC"
   ]
  },
  {
   "cell_type": "markdown",
   "metadata": {},
   "source": [
    "#### silhouette score"
   ]
  },
  {
   "cell_type": "code",
   "execution_count": 13,
   "metadata": {},
   "outputs": [
    {
     "name": "stdout",
     "output_type": "stream",
     "text": [
      "pic silhouette score:  0.32597595993289535\n"
     ]
    }
   ],
   "source": [
    "with open('../../results/pic_matrix.json') as pic_matrix:\n",
    "    pic_matrix_json = json.load(pic_matrix)\n",
    "\n",
    "# get the distance between pois(poi_1, poi_2) and poi_ids(poi_1, poi_2, poi_3, ...)\n",
    "distance_dict, pois = parse_distance_matrix(pic_matrix_json)\n",
    "\n",
    "# distance matrix with rows equal to poi in pois sequentially\n",
    "matrix = build_distance_matrix(distance_dict, pois)\n",
    "\n",
    "with open('../../results/pic_clusters.json') as pic_clusters:\n",
    "    pic_clusters_json = json.load(pic_clusters)\n",
    "\n",
    "# a list of clusters, each cluster containing a list of (poi_id, categories) in the cluster\n",
    "pic_clusters = parse_clustering_result(pic_clusters_json)\n",
    "\n",
    "# get the cluster id for each poi in pois get from parse_distance_matrix\n",
    "labels = build_label(pic_clusters, pois)\n",
    "\n",
    "pic_silhouette_score = metrics.silhouette_score(matrix, labels, metric='precomputed')\n",
    "print('pic silhouette score: ', pic_silhouette_score)"
   ]
  },
  {
   "cell_type": "markdown",
   "metadata": {},
   "source": [
    "#### purity"
   ]
  },
  {
   "cell_type": "markdown",
   "metadata": {},
   "source": [
    "$$ purity(\\Omega, C) = \\frac{1}{n} \\sum_{k} \\max_{j} |\\omega_{k} \\bigcap c_{j}| $$\n",
    "$$ \\Omega = {\\omega_1, \\omega_2, ...., \\omega_k} $$\n",
    "$$ C = {c_1, c_2, ..., c_j} $$"
   ]
  },
  {
   "cell_type": "code",
   "execution_count": 14,
   "metadata": {},
   "outputs": [
    {
     "name": "stdout",
     "output_type": "stream",
     "text": [
      "Number of categories:  478  in cluster  0\n",
      "Number of categories:  1  in cluster  1\n",
      "Number of categories:  1  in cluster  2\n",
      "Number of categories:  1  in cluster  3\n",
      "Number of categories:  4  in cluster  4\n",
      "Number of categories:  3  in cluster  5\n",
      "Number of categories:  8  in cluster  6\n",
      "Number of categories:  8  in cluster  7\n",
      "Number of categories:  21  in cluster  8\n",
      "Number of categories:  36  in cluster  9\n",
      "Number of categories:  561\n"
     ]
    }
   ],
   "source": [
    "pic_categories, pic_categories_in_clusters = cal_categories(pic_clusters)"
   ]
  },
  {
   "cell_type": "code",
   "execution_count": 15,
   "metadata": {},
   "outputs": [
    {
     "name": "stdout",
     "output_type": "stream",
     "text": [
      "pic purity:  0.336026936026936\n"
     ]
    }
   ],
   "source": [
    "num_pois = len(pois)\n",
    "pic_purity = cal_purity(num_pois, pic_categories_in_clusters)\n",
    "print('pic purity: ', pic_purity)"
   ]
  },
  {
   "cell_type": "markdown",
   "metadata": {},
   "source": [
    "#### normalized mutual information"
   ]
  },
  {
   "cell_type": "markdown",
   "metadata": {},
   "source": [
    "$$ I(\\Omega;C) = \\sum_{k}\\sum_{j}P(\\omega_k \\cap c_j) log \\frac{P(\\omega_k \\cap c_j)}{P(\\omega_k)P(c_j)}$$\n",
    "\n",
    "$$= \\sum_{k}\\sum_{j}\\frac{|\\omega_k \\cap c_j|}{N} log \\frac{N |\\omega_k \\cap c_j|}{|\\omega_k||c_j|}$$,\n",
    "\n",
    "$$ H(\\Omega) = - \\sum_{k} P(\\omega_k)logP(\\omega_k) $$\n",
    "\n",
    "$$ = - \\sum_{k} \\frac{|\\omega_k|}{N} log \\frac{|\\omega_k|}{N}$$\n",
    "\n",
    "$$ NMI(\\Omega, C) = \\frac{I(\\Omega;C)}{[H(\\Omega) + H(C)]/2} $$"
   ]
  },
  {
   "cell_type": "code",
   "execution_count": 16,
   "metadata": {},
   "outputs": [
    {
     "name": "stdout",
     "output_type": "stream",
     "text": [
      "Number of clusters:  10\n",
      "Entropy of cluster:  1.9571485303409726\n",
      "Entropy of classes:  5.023124030478302\n",
      "pic nmi:  0.5607656472690129\n"
     ]
    }
   ],
   "source": [
    "pic_nmi = cal_nmi(num_pois, pic_clusters, pic_categories, pic_categories_in_clusters)\n",
    "print('pic nmi: ', pic_nmi)"
   ]
  },
  {
   "cell_type": "markdown",
   "metadata": {},
   "source": [
    "#### ri"
   ]
  },
  {
   "cell_type": "markdown",
   "metadata": {},
   "source": [
    "$$ RI = \\frac{TP + TN}{TP + FP + FN + TN} $$"
   ]
  },
  {
   "cell_type": "code",
   "execution_count": 17,
   "metadata": {},
   "outputs": [
    {
     "name": "stdout",
     "output_type": "stream",
     "text": [
      "tp_fp:  211601\n",
      "tp:  47767\n",
      "fp:  163834\n",
      "most common category:  Clubs Dance Discotheque@en Diskothek@de Leisure Nachtleben@de Nightlife@en\n",
      "most common category:  Hotel/Motel@de Hotel/Motel@en Hotel@de Hotel@en Hotels Lodging/Living/Accommodation\n",
      "most common category:  Austrian Austrian@en Eating & Drinking Restaurant@de Restaurant@en Österreichisch@de\n",
      "most common category:  Austrian@en Eating & Drinking Hotels Restaurant@de Restaurant@en Österreichisch@de\n",
      "most common category:  Eating & Drinking Italian Italian@en Italienisch@de Pizza Restaurant@de Restaurant@en\n",
      "most common category:  Chinese Chinese@en Chinesisch@de Eating & Drinking Restaurant@de Restaurant@en\n",
      "most common category:  Building@en Gebäude@de Hotels Important Tourist Attraction@en Sehenswürdigkeit@de Tourism\n",
      "most common category:  Austrian Hotel/Motel@de Hotel/Motel@en Hotel@de Hotel@en Lodging/Living/Accommodation\n",
      "most common category:  Buildings Denkmal@de Important Tourist Attraction@en Landmarks&Historical Monument@en Sehenswürdigkeit@de Tourism\n",
      "most common category:  Eating & Drinking Fisch und Meeresfrüchte@de Fish&Chips Restaurant@de Restaurant@en Seafood@en\n",
      "fn_tn:  0\n",
      "fn:  0\n",
      "tn:  0\n",
      "ri:  0.2257408991450891\n",
      "0.2257408991450891\n"
     ]
    }
   ],
   "source": [
    "print(cal_ri(num_pois, pic_clusters, pic_categories, pic_categories_in_clusters))"
   ]
  },
  {
   "cell_type": "markdown",
   "metadata": {},
   "source": [
    "### MDS"
   ]
  },
  {
   "cell_type": "markdown",
   "metadata": {},
   "source": [
    "#### silhouette score"
   ]
  },
  {
   "cell_type": "code",
   "execution_count": 18,
   "metadata": {},
   "outputs": [
    {
     "name": "stdout",
     "output_type": "stream",
     "text": [
      "mds silhouette score:  0.8456986105658925\n"
     ]
    }
   ],
   "source": [
    "with open('../../results/mds_coordinates.json') as mds_coordinates:\n",
    "    mds_coordinates_json = json.load(mds_coordinates)\n",
    "\n",
    "poi_coordinates = {}\n",
    "for item in mds_coordinates_json['coordinates']:\n",
    "    poi_coordinates[item['poiID']] = (item['coordinate'][0], item['coordinate'][1])\n",
    "\n",
    "mds_matrix = build_mds_distance_matrix(poi_coordinates, pois)\n",
    "with open('../../results/mds_kmeans_clusters.json') as mds_kmeans_clusters:\n",
    "    mds_kmeans_clusters_json = json.load(mds_kmeans_clusters)\n",
    "\n",
    "mds_clusters = parse_clustering_result(mds_kmeans_clusters_json)\n",
    "mds_labels = build_label(mds_clusters, pois)\n",
    "\n",
    "mds_silhouette_score = metrics.silhouette_score(mds_matrix, mds_labels, metric='precomputed')\n",
    "print('mds silhouette score: ', mds_silhouette_score)"
   ]
  },
  {
   "cell_type": "code",
   "execution_count": 19,
   "metadata": {},
   "outputs": [
    {
     "data": {
      "image/png": "[encoded data removed]",
      "text/plain": [
       "<Figure size 432x288 with 1 Axes>"
      ]
     },
     "metadata": {
      "needs_background": "light"
     },
     "output_type": "display_data"
    }
   ],
   "source": [
    "mds_clusters_coordinate = {}\n",
    "for key, values in mds_clusters.items():\n",
    "    if key not in mds_clusters_coordinate.keys():\n",
    "        mds_clusters_coordinate[key] = {'x': [], 'y': []}\n",
    "    for value in values:\n",
    "        mds_clusters_coordinate[key]['x'].append(poi_coordinates[value[0]][0])\n",
    "        mds_clusters_coordinate[key]['y'].append(poi_coordinates[value[0]][1])\n",
    "\n",
    "NUM_COLORS = len(mds_clusters_coordinate)\n",
    "fig = plt.figure()  # figsize=(12,12)\n",
    "ax = fig.add_subplot(111)\n",
    "min_x, max_x, min_y, max_y = None, None, None, None\n",
    "for i in range(NUM_COLORS):\n",
    "    if min_x is None or min_x > min(mds_clusters_coordinate[i]['x']):\n",
    "        min_x = min(mds_clusters_coordinate[i]['x'])\n",
    "    if max_x is None or max_x < max(mds_clusters_coordinate[i]['x']):\n",
    "        max_x = max(mds_clusters_coordinate[i]['x'])\n",
    "    if min_y is None or min_y > min(mds_clusters_coordinate[i]['y']):\n",
    "        min_y = min(mds_clusters_coordinate[i]['y'])\n",
    "    if max_y is None or max_y < max(mds_clusters_coordinate[i]['y']):\n",
    "        max_y = max(mds_clusters_coordinate[i]['y'])\n",
    "    ax.scatter(mds_clusters_coordinate[i]['x'], mds_clusters_coordinate[i]['y'])\n",
    "plt.xticks(np.arange(min_x-0.1, max_x+0.1, step=0.2))\n",
    "plt.yticks(np.arange(min_y-0.1, max_y+0.1, step=0.2))\n",
    "plt.show()"
   ]
  },
  {
   "cell_type": "markdown",
   "metadata": {},
   "source": [
    "#### purity "
   ]
  },
  {
   "cell_type": "code",
   "execution_count": 21,
   "metadata": {},
   "outputs": [
    {
     "name": "stdout",
     "output_type": "stream",
     "text": [
      "Number of categories:  424  in cluster  0\n",
      "Number of categories:  1  in cluster  1\n",
      "Number of categories:  1  in cluster  2\n",
      "Number of categories:  3  in cluster  3\n",
      "Number of categories:  1  in cluster  4\n",
      "Number of categories:  9  in cluster  5\n",
      "Number of categories:  31  in cluster  6\n",
      "Number of categories:  2  in cluster  7\n",
      "Number of categories:  13  in cluster  8\n",
      "Number of categories:  76  in cluster  9\n",
      "Number of categories:  561\n"
     ]
    }
   ],
   "source": [
    "mds_categories, mds_categories_in_clusters = cal_categories(mds_clusters)"
   ]
  },
  {
   "cell_type": "code",
   "execution_count": 22,
   "metadata": {},
   "outputs": [
    {
     "name": "stdout",
     "output_type": "stream",
     "text": [
      "mds purity:  0.3367003367003367\n"
     ]
    }
   ],
   "source": [
    "mds_purity = cal_purity(num_pois, mds_categories_in_clusters)\n",
    "print('mds purity: ', mds_purity)"
   ]
  },
  {
   "cell_type": "markdown",
   "metadata": {},
   "source": [
    "#### normalized mutual information"
   ]
  },
  {
   "cell_type": "code",
   "execution_count": 23,
   "metadata": {},
   "outputs": [
    {
     "name": "stdout",
     "output_type": "stream",
     "text": [
      "Number of clusters:  10\n",
      "Entropy of cluster:  2.045928263760873\n",
      "Entropy of classes:  5.0231240304782805\n",
      "mds nmi:  0.578840890858363\n"
     ]
    }
   ],
   "source": [
    "mds_nmi = cal_nmi(num_pois, mds_clusters, mds_categories, mds_categories_in_clusters)\n",
    "print('mds nmi: ', mds_nmi)"
   ]
  },
  {
   "cell_type": "markdown",
   "metadata": {},
   "source": [
    "#### ri"
   ]
  },
  {
   "cell_type": "code",
   "execution_count": 24,
   "metadata": {},
   "outputs": [
    {
     "name": "stdout",
     "output_type": "stream",
     "text": [
      "tp_fp:  174813\n",
      "tp:  47767\n",
      "fp:  127046\n",
      "most common category:  Austrian Austrian@en Beer Eating & Drinking Garden Gastropubs Restaurant@de Restaurant@en Österreichisch@de\n",
      "most common category:  Austrian Austrian@en Eating & Drinking Restaurant@de Restaurant@en Österreichisch@de\n",
      "most common category:  Hotel/Motel@de Hotel/Motel@en Hotel@de Hotel@en Hotels Lodging/Living/Accommodation\n",
      "most common category:  Eating & Drinking Italian Italian@en Italienisch@de Restaurant@de Restaurant@en\n",
      "most common category:  Austrian@en Eating & Drinking Hotels Restaurant@de Restaurant@en Österreichisch@de\n",
      "most common category:  Cafes Café/Pub@de Café/Pub@en Café@de Café@en Coffee&Tea Eating & Drinking\n",
      "most common category:  Austrian@en Eating & Drinking Restaurant@de Restaurant@en Restaurants Österreichisch@de\n",
      "most common category:  Chinese Chinese@en Chinesisch@de Eating & Drinking Restaurant@de Restaurant@en\n",
      "most common category:  Eating & Drinking Indian Indian@en Indisch@de Restaurant@de Restaurant@en\n",
      "most common category:  Café/Pub@de Café/Pub@en Café@de Café@en Coffee&Tea Eating & Drinking\n",
      "fn_tn:  0\n",
      "fn:  0\n",
      "tn:  0\n",
      "ri:  0.2732462688701641\n",
      "0.2732462688701641\n"
     ]
    }
   ],
   "source": [
    "print(cal_ri(num_pois, mds_clusters, mds_categories, mds_categories_in_clusters))"
   ]
  },
  {
   "cell_type": "markdown",
   "metadata": {},
   "source": [
    "### OneHot Encoding"
   ]
  },
  {
   "cell_type": "markdown",
   "metadata": {},
   "source": [
    "#### silhouette score"
   ]
  },
  {
   "cell_type": "code",
   "execution_count": 25,
   "metadata": {},
   "outputs": [
    {
     "name": "stdout",
     "output_type": "stream",
     "text": [
      "one hot silhouette score:  0.3053573841536867\n"
     ]
    }
   ],
   "source": [
    "with open('../../results/oneHotMatrix.json') as one_hot:\n",
    "    one_hot_encoded = json.load(one_hot)\n",
    "\n",
    "poi_encoding = {}\n",
    "for item in one_hot_encoded:\n",
    "    poi_encoding[item[0]] = item[1:]\n",
    "\n",
    "with open('../../results/oneHot_kmeans_clusters.json') as onehot_kmeans_clusters:\n",
    "    onehot_kmeans_clusters_json = json.load(onehot_kmeans_clusters)\n",
    "\n",
    "onehot_matrix, poi_new = [], []\n",
    "for poi_i, poi_i_code in poi_encoding.items():\n",
    "    poi_new.append(poi_i)\n",
    "    row = []\n",
    "    for poi_j, poi_j_code in poi_encoding.items():\n",
    "        if poi_i == poi_j:\n",
    "            row.append(0)\n",
    "        else:\n",
    "            row.append(distance.euclidean(poi_i_code, poi_j_code))\n",
    "    onehot_matrix.append(row)\n",
    "onehot_matrix = np.array(onehot_matrix)\n",
    "\n",
    "onehot_clusters = parse_clustering_result(onehot_kmeans_clusters_json)\n",
    "onehot_labels = build_label(onehot_clusters, poi_new)\n",
    "onehot_silhouette_score = metrics.silhouette_score(onehot_matrix, onehot_labels, metric='precomputed')\n",
    "print('one hot silhouette score: ', onehot_silhouette_score)"
   ]
  },
  {
   "cell_type": "markdown",
   "metadata": {},
   "source": [
    "#### purity"
   ]
  },
  {
   "cell_type": "code",
   "execution_count": 26,
   "metadata": {},
   "outputs": [
    {
     "name": "stdout",
     "output_type": "stream",
     "text": [
      "Number of categories:  211  in cluster  0\n",
      "Number of categories:  49  in cluster  1\n",
      "Number of categories:  94  in cluster  2\n",
      "Number of categories:  33  in cluster  3\n",
      "Number of categories:  62  in cluster  4\n",
      "Number of categories:  33  in cluster  5\n",
      "Number of categories:  11  in cluster  6\n",
      "Number of categories:  22  in cluster  7\n",
      "Number of categories:  44  in cluster  8\n",
      "Number of categories:  2  in cluster  9\n",
      "Number of categories:  561\n"
     ]
    }
   ],
   "source": [
    "onehot_categories, onehot_categories_in_clusters = cal_categories(onehot_clusters)"
   ]
  },
  {
   "cell_type": "code",
   "execution_count": 28,
   "metadata": {},
   "outputs": [
    {
     "name": "stdout",
     "output_type": "stream",
     "text": [
      "one hot purity:  0.3218855218855219\n"
     ]
    }
   ],
   "source": [
    "onehot_purity = cal_purity(num_pois, onehot_categories_in_clusters)\n",
    "print('one hot purity: ', onehot_purity)"
   ]
  },
  {
   "cell_type": "markdown",
   "metadata": {},
   "source": [
    "#### normalized mutual information"
   ]
  },
  {
   "cell_type": "code",
   "execution_count": 29,
   "metadata": {},
   "outputs": [
    {
     "name": "stdout",
     "output_type": "stream",
     "text": [
      "Number of clusters:  10\n",
      "Entropy of cluster:  1.740149951533934\n",
      "Entropy of classes:  5.023124030478345\n",
      "one hot nmi:  0.514588040100717\n"
     ]
    }
   ],
   "source": [
    "onehot_nmi = cal_nmi(num_pois, onehot_clusters, onehot_categories, onehot_categories_in_clusters)\n",
    "print('one hot nmi: ', onehot_nmi)"
   ]
  },
  {
   "cell_type": "markdown",
   "metadata": {},
   "source": [
    "#### ri"
   ]
  },
  {
   "cell_type": "code",
   "execution_count": 30,
   "metadata": {},
   "outputs": [
    {
     "name": "stdout",
     "output_type": "stream",
     "text": [
      "tp_fp:  259251\n",
      "tp:  47767\n",
      "fp:  211484\n",
      "most common category:  Austrian Austrian@en Eating & Drinking Restaurant@de Restaurant@en Österreichisch@de\n",
      "most common category:  Hotel/Motel@de Hotel/Motel@en Hotel@de Hotel@en Hotels Lodging/Living/Accommodation\n",
      "most common category:  Bakeries Essen & Trinken: Bäcker@de Food & Drinks: Bakers@en Geschäft@de Shop@en Shopping\n",
      "most common category:  Austrian Austrian@en Bars Eating & Drinking Restaurant@de Restaurant@en Wine Österreichisch@de\n",
      "most common category:  Cafes Café/Pub@de Café/Pub@en Café@de Café@en Coffee&Tea Eating & Drinking\n",
      "most common category:  Bed & Breakfast & Guest Houses@en Fremdenzimmer & Gästehaus@de Hotel/Motel@de Hotel/Motel@en Hotels Lodging/Living/Accommodation\n",
      "most common category:  Chinese Chinese@en Chinesisch@de Eating & Drinking Restaurant@de Restaurant@en\n",
      "most common category:  Austrian Eating & Drinking Nicht spezifiziert@de Restaurant@de Restaurant@en Unspecified@en\n",
      "most common category:  Bar@de Bar@en Bars Leisure Nachtleben@de Nightlife@en\n",
      "most common category:  Eating & Drinking Französisch@de French French@en Restaurant@de Restaurant@en\n",
      "fn_tn:  0\n",
      "fn:  0\n",
      "tn:  0\n",
      "ri:  0.18425001253611364\n",
      "0.18425001253611364\n"
     ]
    }
   ],
   "source": [
    "print(cal_ri(num_pois, onehot_clusters, onehot_categories, onehot_categories_in_clusters))"
   ]
  },
  {
   "cell_type": "markdown",
   "metadata": {},
   "source": [
    "### Word2Vec"
   ]
  },
  {
   "cell_type": "markdown",
   "metadata": {},
   "source": [
    "#### silhouette score"
   ]
  },
  {
   "cell_type": "code",
   "execution_count": 31,
   "metadata": {},
   "outputs": [
    {
     "name": "stdout",
     "output_type": "stream",
     "text": [
      "word2vec silhouette score:  0.5559534610129746\n"
     ]
    }
   ],
   "source": [
    "with open('../../results/word2Vec.json') as word2Vec:\n",
    "    word_vec_encoded = json.load(word2Vec)\n",
    "    \n",
    "word_vec_dict = {}\n",
    "for word_vec in word_vec_encoded:\n",
    "    word_vec_dict[word_vec['_1']] = word_vec['_2']\n",
    "    \n",
    "with open('../../results/word2vec_kmeans_clusters.json') as word2vec_kmeans_clusters:\n",
    "    word2vec_kmeans_clusters_json = json.load(word2vec_kmeans_clusters)\n",
    "    \n",
    "word2vec_clusters = parse_clustering_result(word2vec_kmeans_clusters_json)\n",
    "\n",
    "word2vec_matrix, poi_word2vec = [], []\n",
    "for poi_i, poi_i_code in word_vec_dict.items():\n",
    "    poi_word2vec.append(poi_i)\n",
    "    row = []\n",
    "    for poi_j, poi_j_code in word_vec_dict.items():\n",
    "        if poi_i == poi_j:\n",
    "            row.append(0)\n",
    "        else:\n",
    "            row.append(distance.euclidean(poi_i_code, poi_j_code))\n",
    "    word2vec_matrix.append(row)\n",
    "word2vec_matrix = np.array(word2vec_matrix)\n",
    "\n",
    "word2vec_labels = build_label(word2vec_clusters, poi_word2vec)\n",
    "word2vec_silhouette_score = metrics.silhouette_score(word2vec_matrix, word2vec_labels, metric='precomputed')\n",
    "print('word2vec silhouette score: ', word2vec_silhouette_score)"
   ]
  },
  {
   "cell_type": "markdown",
   "metadata": {},
   "source": [
    "#### purity"
   ]
  },
  {
   "cell_type": "code",
   "execution_count": 32,
   "metadata": {},
   "outputs": [
    {
     "name": "stdout",
     "output_type": "stream",
     "text": [
      "Number of categories:  175  in cluster  0\n",
      "Number of categories:  10  in cluster  1\n",
      "Number of categories:  74  in cluster  2\n",
      "Number of categories:  51  in cluster  3\n",
      "Number of categories:  76  in cluster  4\n",
      "Number of categories:  22  in cluster  5\n",
      "Number of categories:  82  in cluster  6\n",
      "Number of categories:  6  in cluster  7\n",
      "Number of categories:  31  in cluster  8\n",
      "Number of categories:  34  in cluster  9\n",
      "Number of categories:  561\n"
     ]
    }
   ],
   "source": [
    "word2vec_categories, word2vec_categories_in_clusters = cal_categories(word2vec_clusters)"
   ]
  },
  {
   "cell_type": "code",
   "execution_count": 33,
   "metadata": {},
   "outputs": [
    {
     "name": "stdout",
     "output_type": "stream",
     "text": [
      "Word2Vec purity:  0.3441077441077441\n"
     ]
    }
   ],
   "source": [
    "word2vec_purity = cal_purity(num_pois, word2vec_categories_in_clusters)\n",
    "print('Word2Vec purity: ', word2vec_purity)"
   ]
  },
  {
   "cell_type": "markdown",
   "metadata": {},
   "source": [
    "#### normalized mutual information"
   ]
  },
  {
   "cell_type": "code",
   "execution_count": 34,
   "metadata": {},
   "outputs": [
    {
     "name": "stdout",
     "output_type": "stream",
     "text": [
      "Number of clusters:  10\n",
      "Entropy of cluster:  2.028214379527824\n",
      "Entropy of classes:  5.023124030478338\n",
      "word2vec nmi:  0.5752707533224323\n"
     ]
    }
   ],
   "source": [
    "word2vec_nmi = cal_nmi(num_pois, word2vec_clusters, word2vec_categories, word2vec_categories_in_clusters)\n",
    "print('word2vec nmi: ', word2vec_nmi)"
   ]
  },
  {
   "cell_type": "markdown",
   "metadata": {},
   "source": [
    "#### rand index"
   ]
  },
  {
   "cell_type": "code",
   "execution_count": 35,
   "metadata": {},
   "outputs": [
    {
     "name": "stdout",
     "output_type": "stream",
     "text": [
      "tp_fp:  169874\n",
      "tp:  47767\n",
      "fp:  122107\n",
      "most common category:  Austrian@en Eating & Drinking Hotels Restaurant@de Restaurant@en Österreichisch@de\n",
      "most common category:  Hotel/Motel@de Hotel/Motel@en Hotel@de Hotel@en Hotels Lodging/Living/Accommodation\n",
      "most common category:  Church@en Hotels Kirche@de Place of Worship@en Religiöse Einrichtung@de Tourism\n",
      "most common category:  Bar@de Bar@en Bars Leisure Nachtleben@de Nightlife@en\n",
      "most common category:  Bed & Breakfast & Guest Houses@en Fremdenzimmer & Gästehaus@de Hotel/Motel@de Hotel/Motel@en Hotels Lodging/Living/Accommodation\n",
      "most common category:  Eating & Drinking Italian Italian@en Italienisch@de Restaurant@de Restaurant@en\n",
      "most common category:  Austrian Austrian@en Eating & Drinking Restaurant@de Restaurant@en Österreichisch@de\n",
      "most common category:  Bakeries Essen & Trinken: Bäcker@de Food & Drinks: Bakers@en Geschäft@de Shop@en Shopping\n",
      "most common category:  Café/Pub@de Café/Pub@en Coffee Shop@de Coffee Shop@en Coffee&Tea Eating & Drinking\n",
      "most common category:  Cafes Café/Pub@de Café/Pub@en Café@de Café@en Coffee&Tea Eating & Drinking\n",
      "fn_tn:  0\n",
      "fn:  0\n",
      "tn:  0\n",
      "ri:  0.2811907649198818\n",
      "0.2811907649198818\n"
     ]
    }
   ],
   "source": [
    "print(cal_ri(num_pois, word2vec_clusters, word2vec_categories, word2vec_categories_in_clusters))"
   ]
  }
 ],
 "metadata": {
  "kernelspec": {
   "display_name": "Python 3",
   "language": "python",
   "name": "python3"
  },
  "language_info": {
   "codemirror_mode": {
    "name": "ipython",
    "version": 3
   },
   "file_extension": ".py",
   "mimetype": "text/x-python",
   "name": "python",
   "nbconvert_exporter": "python",
   "pygments_lexer": "ipython3",
   "version": "3.6.6"
  }
 },
 "nbformat": 4,
 "nbformat_minor": 1
}
