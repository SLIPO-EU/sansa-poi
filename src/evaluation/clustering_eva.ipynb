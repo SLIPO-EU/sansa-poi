{
 "cells": [
  {
   "cell_type": "markdown",
   "metadata": {},
   "source": [
    "## Clustering Evaluation"
   ]
  },
  {
   "cell_type": "markdown",
   "metadata": {},
   "source": [
    "### All imports here"
   ]
  },
  {
   "cell_type": "code",
   "execution_count": 1,
   "metadata": {},
   "outputs": [],
   "source": [
    "import json\n",
    "from sklearn import metrics"
   ]
  },
  {
   "cell_type": "code",
   "execution_count": 2,
   "metadata": {},
   "outputs": [
    {
     "name": "stdout",
     "output_type": "stream",
     "text": [
      "Populating the interactive namespace from numpy and matplotlib\n"
     ]
    }
   ],
   "source": [
    "import matplotlib.pyplot as plt\n",
    "%pylab inline"
   ]
  },
  {
   "cell_type": "markdown",
   "metadata": {},
   "source": [
    "### Functions"
   ]
  },
  {
   "cell_type": "code",
   "execution_count": 3,
   "metadata": {},
   "outputs": [],
   "source": [
    "def parse_distance_matrix(pic_matrix_json):\n",
    "    \"\"\"\n",
    "    parse distance matrix output from pic clustering algorithm\n",
    "    @arg pic_matrix_json json file containing pic clustering distance\n",
    "    @return distance dictionary and set of pois\n",
    "    \"\"\"\n",
    "    distance_dict, pois = {}, set()\n",
    "    for item in pic_matrix_json['distances']:\n",
    "        pois.add(item['poi1'])\n",
    "        pois.add(item['poi2'])\n",
    "        if item['poi1'] not in distance_dict.keys():\n",
    "            distance_dict[item['poi1']] = {item['poi2']: item['distance']}\n",
    "        else:\n",
    "            distance_dict[item['poi1']][item['poi2']] = item['distance']\n",
    "    return distance_dict, pois\n",
    "\n",
    "def build_distance_matrix(distance_dict, pois):\n",
    "    \"\"\"\n",
    "    build distance matrix from distance dictionary and set of pois, key error should never be thrown here\n",
    "    \"\"\"\n",
    "    matrix = []\n",
    "    for poi_i in pois:  # each row\n",
    "        row = []\n",
    "        for poi_j in pois:  # each column\n",
    "            if poi_i == poi_j:  # diagonal\n",
    "                row.append(0.0)\n",
    "            elif poi_i in distance_dict.keys():  # if there is relation between poi_i and poi_j\n",
    "                if poi_j in distance_dict[poi_i].keys():\n",
    "                    row.append(distance_dict[poi_i][poi_j])\n",
    "                else:\n",
    "                    row.append(distance_dict[poi_j][poi_i])\n",
    "            else:  # if there is relation between poi_i and poi_j\n",
    "                row.append(1.0)\n",
    "        matrix.append(np.array(row))\n",
    "    return np.array(matrix)\n",
    "\n",
    "def parse_clustering_result(clusters_json):\n",
    "    \"\"\"\n",
    "    parse clustering result to get cluster id and corresponding pois in cluster\n",
    "    \"\"\"\n",
    "    clusters = {}\n",
    "    for cluster in clusters_json['clusters']:\n",
    "        if cluster['cluster_id'] not in clusters:\n",
    "            clusters[cluster['cluster_id']] = []\n",
    "        for poi in cluster['poi_in_cluster']:\n",
    "            clusters[cluster['cluster_id']].append(poi['poi_id'])\n",
    "    return clusters\n",
    "\n",
    "def build_label(clusters, pois):\n",
    "    \"\"\"\n",
    "    get cluster label for each poi from clusters and pois\n",
    "    \"\"\"\n",
    "    poi_cluster_label = {}\n",
    "    for key, value in clusters.items():  # for each cluster_i and pois_in_cluster_i\n",
    "        for poi in value:  # for each poi in cluster_i\n",
    "            assert poi not in poi_cluster_label.keys()  # poi shouldn't be labeled, poi assigned to one cluster only\n",
    "            poi_cluster_label[poi] = key\n",
    "    \n",
    "    labels = []\n",
    "    for poi in pois:  # get cluster label for each poi from poi_cluster dict\n",
    "        labels.append(poi_cluster_label[poi])\n",
    "    return np.array(labels)"
   ]
  },
  {
   "cell_type": "markdown",
   "metadata": {},
   "source": [
    "### PIC"
   ]
  },
  {
   "cell_type": "code",
   "execution_count": 4,
   "metadata": {},
   "outputs": [],
   "source": [
    "with open('../../results/pic_matrix.json') as pic_matrix:\n",
    "    pic_matrix_json = json.load(pic_matrix)"
   ]
  },
  {
   "cell_type": "code",
   "execution_count": 5,
   "metadata": {},
   "outputs": [],
   "source": [
    "distance_dict, pois = parse_distance_matrix(pic_matrix_json)"
   ]
  },
  {
   "cell_type": "code",
   "execution_count": 6,
   "metadata": {},
   "outputs": [],
   "source": [
    "matrix = build_distance_matrix(distance_dict, pois)"
   ]
  },
  {
   "cell_type": "code",
   "execution_count": 7,
   "metadata": {},
   "outputs": [],
   "source": [
    "with open('../../results/pic_clusters.json') as pic_clusters:\n",
    "    pic_clusters_json = json.load(pic_clusters)"
   ]
  },
  {
   "cell_type": "code",
   "execution_count": 8,
   "metadata": {},
   "outputs": [],
   "source": [
    "clusters = parse_clustering_result(pic_clusters_json)"
   ]
  },
  {
   "cell_type": "code",
   "execution_count": 9,
   "metadata": {},
   "outputs": [],
   "source": [
    "labels = build_label(clusters, pois)"
   ]
  },
  {
   "cell_type": "code",
   "execution_count": 10,
   "metadata": {},
   "outputs": [
    {
     "data": {
      "text/plain": [
       "0.45147020556856621"
      ]
     },
     "execution_count": 10,
     "metadata": {},
     "output_type": "execute_result"
    }
   ],
   "source": [
    "metrics.silhouette_score(matrix, labels, metric='precomputed')"
   ]
  },
  {
   "cell_type": "code",
   "execution_count": 11,
   "metadata": {},
   "outputs": [],
   "source": [
    "#metrics.calinski_harabaz_score(matrix, labels)"
   ]
  },
  {
   "cell_type": "markdown",
   "metadata": {},
   "source": [
    "### MDS"
   ]
  },
  {
   "cell_type": "code",
   "execution_count": 25,
   "metadata": {},
   "outputs": [],
   "source": [
    "with open('../../results/mds_coordinates.json') as mds_coordinates:\n",
    "    mds_coordinates_json = json.load(mds_coordinates)"
   ]
  },
  {
   "cell_type": "code",
   "execution_count": 26,
   "metadata": {},
   "outputs": [],
   "source": [
    "poi_coordinates = {}\n",
    "for item in mds_coordinates_json['coordinates']:\n",
    "    poi_coordinates[item['poiID']] = (item['coordinate'][0], item['coordinate'][1])"
   ]
  },
  {
   "cell_type": "code",
   "execution_count": 32,
   "metadata": {},
   "outputs": [],
   "source": [
    "import numpy as np\n",
    "from scipy.spatial import distance\n",
    "mds_matrix = []\n",
    "for poi_i in pois:\n",
    "    row = []\n",
    "    for poi_j in pois:\n",
    "        if poi_i == poi_j:\n",
    "            row.append(0)\n",
    "        else:\n",
    "            row.append(distance.euclidean(poi_coordinates[poi_i], poi_coordinates[poi_j]))\n",
    "    mds_matrix.append(row)\n",
    "mds_matrix = np.array(mds_matrix)"
   ]
  },
  {
   "cell_type": "code",
   "execution_count": 33,
   "metadata": {},
   "outputs": [],
   "source": [
    "with open('../../results/mds_kmeans_clusters.json') as mds_kmeans_clusters:\n",
    "    mds_kmeans_clusters_json = json.load(mds_kmeans_clusters)"
   ]
  },
  {
   "cell_type": "code",
   "execution_count": 34,
   "metadata": {},
   "outputs": [],
   "source": [
    "mds_clusters = parse_clustering_result(mds_kmeans_clusters_json)"
   ]
  },
  {
   "cell_type": "code",
   "execution_count": 35,
   "metadata": {},
   "outputs": [],
   "source": [
    "mds_labels = build_label(mds_clusters, pois)"
   ]
  },
  {
   "cell_type": "code",
   "execution_count": 36,
   "metadata": {},
   "outputs": [],
   "source": [
    "mds_clusters_coordinate = {}\n",
    "for key, values in mds_clusters.items():\n",
    "    if key not in mds_clusters_coordinate.keys():\n",
    "        mds_clusters_coordinate[key] = {'x': [], 'y': []}\n",
    "    for value in values:\n",
    "        mds_clusters_coordinate[key]['x'].append(poi_coordinates[value][0])\n",
    "        mds_clusters_coordinate[key]['y'].append(poi_coordinates[value][1])"
   ]
  },
  {
   "cell_type": "code",
   "execution_count": 37,
   "metadata": {},
   "outputs": [
    {
     "data": {
      "image/png": "[encoded data removed]",
      "text/plain": [
       "<matplotlib.figure.Figure at 0x7fbc0955a048>"
      ]
     },
     "metadata": {},
     "output_type": "display_data"
    }
   ],
   "source": [
    "NUM_COLORS = len(mds_clusters_coordinate)\n",
    "fig = plt.figure(figsize=(12,12))\n",
    "ax = fig.add_subplot(111)\n",
    "min_x, max_x, min_y, max_y = None, None, None, None\n",
    "for i in range(NUM_COLORS):\n",
    "    if min_x is None or min_x > min(mds_clusters_coordinate[i]['x']):\n",
    "        min_x = min(mds_clusters_coordinate[i]['x'])\n",
    "    if max_x is None or max_x < max(mds_clusters_coordinate[i]['x']):\n",
    "        max_x = max(mds_clusters_coordinate[i]['x'])\n",
    "    if min_y is None or min_y > min(mds_clusters_coordinate[i]['y']):\n",
    "        min_y = min(mds_clusters_coordinate[i]['y'])\n",
    "    if max_y is None or max_y < max(mds_clusters_coordinate[i]['y']):\n",
    "        max_y = max(mds_clusters_coordinate[i]['y'])\n",
    "    ax.scatter(mds_clusters_coordinate[i]['x'], mds_clusters_coordinate[i]['y'])\n",
    "plt.xticks(np.arange(min_x-0.1, max_x+0.1, step=0.1))\n",
    "plt.yticks(np.arange(min_y-0.1, max_y+0.1, step=0.1))\n",
    "plt.show()"
   ]
  },
  {
   "cell_type": "code",
   "execution_count": 38,
   "metadata": {},
   "outputs": [
    {
     "data": {
      "text/plain": [
       "0.83163993777214096"
      ]
     },
     "execution_count": 38,
     "metadata": {},
     "output_type": "execute_result"
    }
   ],
   "source": [
    "metrics.silhouette_score(mds_matrix, mds_labels, metric='precomputed')"
   ]
  },
  {
   "cell_type": "code",
   "execution_count": null,
   "metadata": {},
   "outputs": [],
   "source": []
  }
 ],
 "metadata": {
  "kernelspec": {
   "display_name": "Python 3",
   "language": "python",
   "name": "python3"
  },
  "language_info": {
   "codemirror_mode": {
    "name": "ipython",
    "version": 3
   },
   "file_extension": ".py",
   "mimetype": "text/x-python",
   "name": "python",
   "nbconvert_exporter": "python",
   "pygments_lexer": "ipython3",
   "version": "3.5.2"
  }
 },
 "nbformat": 4,
 "nbformat_minor": 1
}
